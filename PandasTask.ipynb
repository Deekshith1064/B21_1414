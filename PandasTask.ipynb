{
  "nbformat": 4,
  "nbformat_minor": 0,
  "metadata": {
    "colab": {
      "provenance": [],
      "authorship_tag": "ABX9TyPmSN97uRriqbDzP+uRZV8U",
      "include_colab_link": true
    },
    "kernelspec": {
      "name": "python3",
      "display_name": "Python 3"
    },
    "language_info": {
      "name": "python"
    }
  },
  "cells": [
    {
      "cell_type": "markdown",
      "metadata": {
        "id": "view-in-github",
        "colab_type": "text"
      },
      "source": [
        "<a href=\"https://colab.research.google.com/github/Deekshith1064/B21_1414/blob/main/PandasTask.ipynb\" target=\"_parent\"><img src=\"https://colab.research.google.com/assets/colab-badge.svg\" alt=\"Open In Colab\"/></a>"
      ]
    },
    {
      "cell_type": "code",
      "execution_count": 4,
      "metadata": {
        "colab": {
          "base_uri": "https://localhost:8080/"
        },
        "id": "NHakJqacRWLg",
        "outputId": "22cd6b78-7bc2-4286-dbdf-c8e2f9b94b5c"
      },
      "outputs": [
        {
          "output_type": "stream",
          "name": "stdout",
          "text": [
            "     S_Name  S_RollNo  M1  M2  M3  Total Result    Average\n",
            "S_No                                                      \n",
            "1      Ravi       101  85  83  80    248   Pass  82.666667\n",
            "2      Neha       102  90  90  98    278   Pass  92.666667\n",
            "3     Kiran       103  78  71  70    219   Pass  73.000000\n",
            "4      Sita       104  92  91  91    274   Pass  91.333333\n"
          ]
        }
      ],
      "source": [
        "import pandas as pd\n",
        "\n",
        "# Student Data\n",
        "student_data = {\n",
        "    'S_Name': ['Ravi', 'Neha', 'Kiran', 'Sita'],\n",
        "    'S_RollNo': [101, 102, 103, 104],\n",
        "    'M1': [85, 90, 78, 92],\n",
        "    'M2': [83, 90, 71, 91],\n",
        "    'M3': [80, 98, 70, 91],\n",
        "}\n",
        "\n",
        "# Create DataFrame\n",
        "df = pd.DataFrame(student_data)\n",
        "\n",
        "# Calculate Total\n",
        "df['Total'] = df['M1'] + df['M2'] + df['M3']\n",
        "\n",
        "# Calculate Result (Pass if Total > 150 else Fail)\n",
        "df['Result'] = ['Pass' if total > 150 else 'Fail' for total in df['Total']]\n",
        "\n",
        "# Calculate Average\n",
        "df['Average'] = df['Total'] / 3\n",
        "\n",
        "# Reset index to start from 1\n",
        "df.index = df.index + 1\n",
        "df.index.name = \"S_No\"\n",
        "\n",
        "# Display final DataFrame\n",
        "print(df)\n"
      ]
    }
  ]
}