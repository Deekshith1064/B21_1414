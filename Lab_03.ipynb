{
  "nbformat": 4,
  "nbformat_minor": 0,
  "metadata": {
    "colab": {
      "provenance": [],
      "authorship_tag": "ABX9TyNd6el9vcdcGUvhW6Wy11Q4",
      "include_colab_link": true
    },
    "kernelspec": {
      "name": "python3",
      "display_name": "Python 3"
    },
    "language_info": {
      "name": "python"
    }
  },
  "cells": [
    {
      "cell_type": "markdown",
      "metadata": {
        "id": "view-in-github",
        "colab_type": "text"
      },
      "source": [
        "<a href=\"https://colab.research.google.com/github/Deekshith1064/B21_1414/blob/main/Lab_03.ipynb\" target=\"_parent\"><img src=\"https://colab.research.google.com/assets/colab-badge.svg\" alt=\"Open In Colab\"/></a>"
      ]
    },
    {
      "cell_type": "code",
      "execution_count": 1,
      "metadata": {
        "id": "HYo2r5AaNhIP"
      },
      "outputs": [],
      "source": [
        "import numpy as np"
      ]
    },
    {
      "cell_type": "code",
      "source": [
        "test_scores = np.random.randint(50, 101, size=(4, 4))\n",
        "print(test_scores)"
      ],
      "metadata": {
        "colab": {
          "base_uri": "https://localhost:8080/"
        },
        "id": "BPuZvFFwOlkC",
        "outputId": "15f5f57a-b453-46ae-8edf-3a18e930219c"
      },
      "execution_count": 2,
      "outputs": [
        {
          "output_type": "stream",
          "name": "stdout",
          "text": [
            "[[64 62 70 90]\n",
            " [67 55 64 96]\n",
            " [83 65 95 58]\n",
            " [54 67 61 73]]\n"
          ]
        }
      ]
    },
    {
      "cell_type": "code",
      "source": [
        "column_means = np.mean(test_scores, axis=0)\n",
        "row_means = np.mean(test_scores, axis=1)\n",
        "\n",
        "print(\"Column-wise means:\", column_means)\n",
        "print(\"Row-wise means:\", row_means)"
      ],
      "metadata": {
        "colab": {
          "base_uri": "https://localhost:8080/"
        },
        "id": "GL3OWNSoOofO",
        "outputId": "654c88c3-84c9-410b-9d49-1aaa3a6a8caf"
      },
      "execution_count": 3,
      "outputs": [
        {
          "output_type": "stream",
          "name": "stdout",
          "text": [
            "Column-wise means: [67.   62.25 72.5  79.25]\n",
            "Row-wise means: [71.5  70.5  75.25 63.75]\n"
          ]
        }
      ]
    },
    {
      "cell_type": "code",
      "source": [
        "std_dev = np.std(test_scores)\n",
        "variance = np.var(test_scores)\n",
        "\n",
        "print(\"Standard Deviation:\", std_dev)\n",
        "print(\"Variance:\", variance)"
      ],
      "metadata": {
        "colab": {
          "base_uri": "https://localhost:8080/"
        },
        "id": "1PmEmyGGOtmQ",
        "outputId": "8cd7137d-7d48-41b4-a1f0-59cb7620202f"
      },
      "execution_count": 4,
      "outputs": [
        {
          "output_type": "stream",
          "name": "stdout",
          "text": [
            "Standard Deviation: 13.141061600951424\n",
            "Variance: 172.6875\n"
          ]
        }
      ]
    },
    {
      "cell_type": "code",
      "source": [
        "min_value = np.min(test_scores)\n",
        "max_value = np.max(test_scores)\n",
        "min_index = np.argmin(test_scores)\n",
        "max_index = np.argmax(test_scores)\n",
        "\n",
        "print(\"Minimum value:\", min_value)\n",
        "print(\"Maximum value:\", max_value)\n",
        "print(\"Index of minimum value:\", min_index)\n",
        "print(\"Index of maximum value:\", max_index)"
      ],
      "metadata": {
        "colab": {
          "base_uri": "https://localhost:8080/"
        },
        "id": "NvZ1k1syOwuP",
        "outputId": "d335d486-4def-4860-c732-099ed9d01893"
      },
      "execution_count": 5,
      "outputs": [
        {
          "output_type": "stream",
          "name": "stdout",
          "text": [
            "Minimum value: 54\n",
            "Maximum value: 96\n",
            "Index of minimum value: 12\n",
            "Index of maximum value: 7\n"
          ]
        }
      ]
    },
    {
      "cell_type": "code",
      "source": [
        "print(\"Statistical Analysis Summary:\")\n",
        "print(f\"Row-wise means: {row_means}\")\n",
        "print(f\"Column-wise means: {column_means}\")\n",
        "print(f\"Overall Standard Deviation: {std_dev}\")\n",
        "print(f\"Overall Variance: {variance}\")\n",
        "print(f\"Global Minimum Value: {min_value} (Index: {min_index})\")\n",
        "print(f\"Global Maximum Value: {max_value} (Index: {max_index})\")"
      ],
      "metadata": {
        "colab": {
          "base_uri": "https://localhost:8080/"
        },
        "id": "oZYh-ckzO1Gs",
        "outputId": "f60c7e83-ff3d-4f70-fe28-fa0661950e1d"
      },
      "execution_count": 6,
      "outputs": [
        {
          "output_type": "stream",
          "name": "stdout",
          "text": [
            "Statistical Analysis Summary:\n",
            "Row-wise means: [71.5  70.5  75.25 63.75]\n",
            "Column-wise means: [67.   62.25 72.5  79.25]\n",
            "Overall Standard Deviation: 13.141061600951424\n",
            "Overall Variance: 172.6875\n",
            "Global Minimum Value: 54 (Index: 12)\n",
            "Global Maximum Value: 96 (Index: 7)\n"
          ]
        }
      ]
    },
    {
      "cell_type": "code",
      "source": [
        "rgb_image = np.random.randint(0, 256, size=(3, 3, 3))\n",
        "print(rgb_image)"
      ],
      "metadata": {
        "colab": {
          "base_uri": "https://localhost:8080/"
        },
        "id": "cYKGm8SWO47o",
        "outputId": "f3fb0296-9a8c-4bc6-cbe1-339f6a8f9f99"
      },
      "execution_count": 7,
      "outputs": [
        {
          "output_type": "stream",
          "name": "stdout",
          "text": [
            "[[[ 20 169  65]\n",
            "  [  2 102 186]\n",
            "  [ 73 172  76]]\n",
            "\n",
            " [[ 52 136 107]\n",
            "  [ 40 166 126]\n",
            "  [224  86  91]]\n",
            "\n",
            " [[233 138 169]\n",
            "  [  9 101 198]\n",
            "  [129 173 163]]]\n"
          ]
        }
      ]
    },
    {
      "cell_type": "code",
      "source": [
        "red_channel = rgb_image[:, :, 0]\n",
        "green_channel = rgb_image[:, :, 1]\n",
        "blue_channel = rgb_image[:, :, 2]\n",
        "print(\"Red Channel:\\n\", red_channel)\n",
        "print(\"Green Channel:\\n\", green_channel)\n",
        "print(\"Blue Channel:\\n\", blue_channel)"
      ],
      "metadata": {
        "colab": {
          "base_uri": "https://localhost:8080/"
        },
        "id": "ji6KW4yfO8wk",
        "outputId": "ae90315d-210f-4f58-ca2a-d7dfe5b91cad"
      },
      "execution_count": 9,
      "outputs": [
        {
          "output_type": "stream",
          "name": "stdout",
          "text": [
            "Red Channel:\n",
            " [[ 20   2  73]\n",
            " [ 52  40 224]\n",
            " [233   9 129]]\n",
            "Green Channel:\n",
            " [[169 102 172]\n",
            " [136 166  86]\n",
            " [138 101 173]]\n",
            "Blue Channel:\n",
            " [[ 65 186  76]\n",
            " [107 126  91]\n",
            " [169 198 163]]\n"
          ]
        }
      ]
    },
    {
      "cell_type": "code",
      "source": [
        "red_mean = np.mean(red_channel)\n",
        "green_mean = np.mean(green_channel)\n",
        "blue_mean = np.mean(blue_channel)\n",
        "print(f\"Average pixel intensity for Red channel: {red_mean}\")\n",
        "print(f\"Average pixel intensity for Green channel: {green_mean}\")\n",
        "print(f\"Average pixel intensity for Blue channel: {blue_mean}\")"
      ],
      "metadata": {
        "colab": {
          "base_uri": "https://localhost:8080/"
        },
        "id": "7di9-5oQPKiD",
        "outputId": "b9a76462-2f4c-4628-f5d1-a303f475fc5b"
      },
      "execution_count": 10,
      "outputs": [
        {
          "output_type": "stream",
          "name": "stdout",
          "text": [
            "Average pixel intensity for Red channel: 86.88888888888889\n",
            "Average pixel intensity for Green channel: 138.11111111111111\n",
            "Average pixel intensity for Blue channel: 131.22222222222223\n"
          ]
        }
      ]
    },
    {
      "cell_type": "code",
      "source": [
        "brightness_increase = 50\n",
        "brightened_image = np.clip(rgb_image + brightness_increase, 0, 255)\n",
        "print(\"Brightened Image (clipped at 255):\\n\", brightened_image)"
      ],
      "metadata": {
        "colab": {
          "base_uri": "https://localhost:8080/"
        },
        "id": "NCOLqRxxPOxB",
        "outputId": "a1177032-73b7-4031-b7d6-c838018606a6"
      },
      "execution_count": 11,
      "outputs": [
        {
          "output_type": "stream",
          "name": "stdout",
          "text": [
            "Brightened Image (clipped at 255):\n",
            " [[[ 70 219 115]\n",
            "  [ 52 152 236]\n",
            "  [123 222 126]]\n",
            "\n",
            " [[102 186 157]\n",
            "  [ 90 216 176]\n",
            "  [255 136 141]]\n",
            "\n",
            " [[255 188 219]\n",
            "  [ 59 151 248]\n",
            "  [179 223 213]]]\n"
          ]
        }
      ]
    },
    {
      "cell_type": "code",
      "source": [
        "print(\"Statistical Analysis Summary:\")\n",
        "print(\"Red Channel:\\n\", red_channel)\n",
        "print(\"Green Channel:\\n\", green_channel)\n",
        "print(\"Blue Channel:\\n\", blue_channel)\n",
        "print(f\"\\nAverage pixel intensity for Red channel: {red_mean}\")\n",
        "print(f\"Average pixel intensity for Green channel: {green_mean}\")\n",
        "print(f\"Average pixel intensity for Blue channel: {blue_mean}\")\n",
        "print(\"\\nBrightened Image (clipped at 255):\\n\", brightened_image)"
      ],
      "metadata": {
        "colab": {
          "base_uri": "https://localhost:8080/"
        },
        "id": "ugCWySK9PSVn",
        "outputId": "346132c4-0062-4e4e-80e4-8ae708a2665a"
      },
      "execution_count": 12,
      "outputs": [
        {
          "output_type": "stream",
          "name": "stdout",
          "text": [
            "Statistical Analysis Summary:\n",
            "Red Channel:\n",
            " [[ 20   2  73]\n",
            " [ 52  40 224]\n",
            " [233   9 129]]\n",
            "Green Channel:\n",
            " [[169 102 172]\n",
            " [136 166  86]\n",
            " [138 101 173]]\n",
            "Blue Channel:\n",
            " [[ 65 186  76]\n",
            " [107 126  91]\n",
            " [169 198 163]]\n",
            "\n",
            "Average pixel intensity for Red channel: 86.88888888888889\n",
            "Average pixel intensity for Green channel: 138.11111111111111\n",
            "Average pixel intensity for Blue channel: 131.22222222222223\n",
            "\n",
            "Brightened Image (clipped at 255):\n",
            " [[[ 70 219 115]\n",
            "  [ 52 152 236]\n",
            "  [123 222 126]]\n",
            "\n",
            " [[102 186 157]\n",
            "  [ 90 216 176]\n",
            "  [255 136 141]]\n",
            "\n",
            " [[255 188 219]\n",
            "  [ 59 151 248]\n",
            "  [179 223 213]]]\n"
          ]
        }
      ]
    }
  ]
}